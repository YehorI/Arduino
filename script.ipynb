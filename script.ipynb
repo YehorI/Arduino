{
 "cells": [
  {
   "cell_type": "code",
   "execution_count": 1,
   "metadata": {},
   "outputs": [
    {
     "name": "stdout",
     "output_type": "stream",
     "text": [
      "Sketch uses 1150 bytes (3%) of program storage space. Maximum is 32256 bytes.\n",
      "Global variables use 9 bytes (0%) of dynamic memory, leaving 2039 bytes for local variables. Maximum is 2048 bytes.\n",
      "\n",
      "\u001b[92mUsed platform\u001b[0m \u001b[92mVersion\u001b[0m \u001b[90mPath\u001b[0m\n",
      "\u001b[93marduino:avr\u001b[0m   1.8.6   \u001b[90m/home/yehori/.arduino15/packages/arduino/hardware/avr/1.8.6\u001b[0m\n"
     ]
    }
   ],
   "source": [
    "!arduino-cli compile --fqbn arduino:avr:uno ~/Documents/Projects/Arduino/pwm_pr\n"
   ]
  },
  {
   "cell_type": "code",
   "execution_count": 4,
   "metadata": {},
   "outputs": [
    {
     "name": "stdout",
     "output_type": "stream",
     "text": [
      "Sketch uses 444 bytes (1%) of program storage space. Maximum is 32256 bytes.\n",
      "Global variables use 9 bytes (0%) of dynamic memory, leaving 2039 bytes for local variables. Maximum is 2048 bytes.\n",
      "\n",
      "\u001b[92mUsed platform\u001b[0m \u001b[92mVersion\u001b[0m \u001b[90mPath\u001b[0m\n",
      "\u001b[93marduino:avr\u001b[0m   1.8.6   \u001b[90m/home/yehori/.arduino15/packages/arduino/hardware/avr/1.8.6\u001b[0m\n",
      "New upload port: /dev/ttyUSB0 (serial)\n"
     ]
    }
   ],
   "source": [
    "PROJECT = \"empty_sketch\"\n",
    "\n",
    "!arduino-cli compile --fqbn arduino:avr:uno ~/Documents/Projects/Arduino/\"{PROJECT}\"\n",
    "!arduino-cli upload -p /dev/ttyUSB0 --fqbn arduino:avr:uno ~/Documents/Projects/Arduino/\"{PROJECT}\"\n"
   ]
  },
  {
   "cell_type": "code",
   "execution_count": 2,
   "metadata": {},
   "outputs": [
    {
     "data": {
      "application/vnd.jupyter.widget-view+json": {
       "model_id": "108c4856939c49c4b5aafe1a22af6981",
       "version_major": 2,
       "version_minor": 0
      },
      "text/plain": [
       "Dropdown(description='Project:', layout=Layout(width='300px'), options=('traffic_l', 'sketch_oct8a', 'pwm_pr',…"
      ]
     },
     "metadata": {},
     "output_type": "display_data"
    },
    {
     "data": {
      "application/vnd.jupyter.widget-view+json": {
       "model_id": "d7790513342541e29d454128a2aac013",
       "version_major": 2,
       "version_minor": 0
      },
      "text/plain": [
       "HBox(children=(Button(description='Compile', style=ButtonStyle()), Button(description='Upload', style=ButtonSt…"
      ]
     },
     "metadata": {},
     "output_type": "display_data"
    },
    {
     "data": {
      "application/vnd.jupyter.widget-view+json": {
       "model_id": "d09d2bbc77284aa9b36e422cfb3dca88",
       "version_major": 2,
       "version_minor": 0
      },
      "text/plain": [
       "Output()"
      ]
     },
     "metadata": {},
     "output_type": "display_data"
    }
   ],
   "source": [
    "import os\n",
    "from IPython.display import display, clear_output\n",
    "from ipywidgets import widgets, Layout\n",
    "\n",
    "ARDUINO_DIR = os.path.expanduser(\"~/Documents/Projects/Arduino\")\n",
    "\n",
    "def list_projects():\n",
    "    return [d for d in os.listdir(ARDUINO_DIR) if os.path.isdir(os.path.join(ARDUINO_DIR, d))]\n",
    "\n",
    "def compile_project(project):\n",
    "    cmd = f\"arduino-cli compile --fqbn arduino:avr:uno {os.path.join(ARDUINO_DIR, project)}\"\n",
    "    print(f\"Compiling {project}...\")\n",
    "    result = os.system(cmd)\n",
    "    if result == 0:\n",
    "        print(\"Compilation successful!\")\n",
    "    else:\n",
    "        print(\"Compilation failed.\")\n",
    "    return result == 0\n",
    "\n",
    "def upload_project(project):\n",
    "    cmd = f\"arduino-cli upload -p /dev/ttyUSB0 --fqbn arduino:avr:uno {os.path.join(ARDUINO_DIR, project)}\"\n",
    "    print(f\"Uploading {project}...\")\n",
    "    result = os.system(cmd)\n",
    "    if result == 0:\n",
    "        print(\"Upload successful!\")\n",
    "    else:\n",
    "        print(\"Upload failed.\")\n",
    "    return result == 0\n",
    "\n",
    "def on_project_change(change):\n",
    "    if change['type'] == 'change' and change['name'] == 'value':\n",
    "        with output:\n",
    "            clear_output(wait=True)\n",
    "            print(f\"Selected project: {change['new']}\")\n",
    "\n",
    "def on_compile_click(b):\n",
    "    with output:\n",
    "        compile_project(dropdown.value)\n",
    "\n",
    "def on_upload_click(b):\n",
    "    with output:\n",
    "        upload_project(dropdown.value)\n",
    "\n",
    "def on_run_click(b):\n",
    "    with output:\n",
    "        if compile_project(dropdown.value):\n",
    "            upload_project(dropdown.value)\n",
    "\n",
    "# Create widgets\n",
    "projects = list_projects()\n",
    "dropdown = widgets.Dropdown(\n",
    "    options=projects,\n",
    "    description='Project:',\n",
    "    disabled=False,\n",
    "    layout=Layout(width='300px')\n",
    ")\n",
    "\n",
    "compile_button = widgets.Button(description=\"Compile\")\n",
    "upload_button = widgets.Button(description=\"Upload\")\n",
    "run_button = widgets.Button(description=\"Run\")\n",
    "\n",
    "# Create output widget\n",
    "output = widgets.Output()\n",
    "\n",
    "# Attach callbacks\n",
    "dropdown.observe(on_project_change, names='value')\n",
    "compile_button.on_click(on_compile_click)\n",
    "upload_button.on_click(on_upload_click)\n",
    "run_button.on_click(on_run_click)\n",
    "\n",
    "# Create a horizontal box for buttons\n",
    "button_box = widgets.HBox([compile_button, upload_button, run_button])\n",
    "\n",
    "# Display widgets\n",
    "display(dropdown)\n",
    "display(button_box)\n",
    "display(output)\n",
    "\n",
    "# Initial project display\n",
    "with output:\n",
    "    print(f\"Selected project: {dropdown.value}\")\n"
   ]
  },
  {
   "cell_type": "code",
   "execution_count": 1,
   "metadata": {},
   "outputs": [
    {
     "ename": "KeyboardInterrupt",
     "evalue": "",
     "output_type": "error",
     "traceback": [
      "\u001b[0;31m---------------------------------------------------------------------------\u001b[0m",
      "\u001b[0;31mKeyboardInterrupt\u001b[0m                         Traceback (most recent call last)",
      "Cell \u001b[0;32mIn[1], line 5\u001b[0m\n\u001b[1;32m      3\u001b[0m ser \u001b[38;5;241m=\u001b[39m serial\u001b[38;5;241m.\u001b[39mSerial(\u001b[38;5;124m'\u001b[39m\u001b[38;5;124m/dev/ttyUSB0\u001b[39m\u001b[38;5;124m'\u001b[39m, \u001b[38;5;241m9600\u001b[39m)\n\u001b[1;32m      4\u001b[0m \u001b[38;5;28;01mwhile\u001b[39;00m \u001b[38;5;28;01mTrue\u001b[39;00m:\n\u001b[0;32m----> 5\u001b[0m     \u001b[38;5;28mprint\u001b[39m(\u001b[43mser\u001b[49m\u001b[38;5;241;43m.\u001b[39;49m\u001b[43mreadline\u001b[49m\u001b[43m(\u001b[49m\u001b[43m)\u001b[49m\u001b[38;5;241m.\u001b[39mdecode()\u001b[38;5;241m.\u001b[39mstrip())\n",
      "File \u001b[0;32m~/.cache/pypoetry/virtualenvs/arduino-beginning-2o8SFZT5-py3.12/lib/python3.12/site-packages/serial/serialposix.py:565\u001b[0m, in \u001b[0;36mSerial.read\u001b[0;34m(self, size)\u001b[0m\n\u001b[1;32m    563\u001b[0m \u001b[38;5;28;01mwhile\u001b[39;00m \u001b[38;5;28mlen\u001b[39m(read) \u001b[38;5;241m<\u001b[39m size:\n\u001b[1;32m    564\u001b[0m     \u001b[38;5;28;01mtry\u001b[39;00m:\n\u001b[0;32m--> 565\u001b[0m         ready, _, _ \u001b[38;5;241m=\u001b[39m \u001b[43mselect\u001b[49m\u001b[38;5;241;43m.\u001b[39;49m\u001b[43mselect\u001b[49m\u001b[43m(\u001b[49m\u001b[43m[\u001b[49m\u001b[38;5;28;43mself\u001b[39;49m\u001b[38;5;241;43m.\u001b[39;49m\u001b[43mfd\u001b[49m\u001b[43m,\u001b[49m\u001b[43m \u001b[49m\u001b[38;5;28;43mself\u001b[39;49m\u001b[38;5;241;43m.\u001b[39;49m\u001b[43mpipe_abort_read_r\u001b[49m\u001b[43m]\u001b[49m\u001b[43m,\u001b[49m\u001b[43m \u001b[49m\u001b[43m[\u001b[49m\u001b[43m]\u001b[49m\u001b[43m,\u001b[49m\u001b[43m \u001b[49m\u001b[43m[\u001b[49m\u001b[43m]\u001b[49m\u001b[43m,\u001b[49m\u001b[43m \u001b[49m\u001b[43mtimeout\u001b[49m\u001b[38;5;241;43m.\u001b[39;49m\u001b[43mtime_left\u001b[49m\u001b[43m(\u001b[49m\u001b[43m)\u001b[49m\u001b[43m)\u001b[49m\n\u001b[1;32m    566\u001b[0m         \u001b[38;5;28;01mif\u001b[39;00m \u001b[38;5;28mself\u001b[39m\u001b[38;5;241m.\u001b[39mpipe_abort_read_r \u001b[38;5;129;01min\u001b[39;00m ready:\n\u001b[1;32m    567\u001b[0m             os\u001b[38;5;241m.\u001b[39mread(\u001b[38;5;28mself\u001b[39m\u001b[38;5;241m.\u001b[39mpipe_abort_read_r, \u001b[38;5;241m1000\u001b[39m)\n",
      "\u001b[0;31mKeyboardInterrupt\u001b[0m: "
     ]
    }
   ],
   "source": []
  }
 ],
 "metadata": {
  "kernelspec": {
   "display_name": "Python 3",
   "language": "python",
   "name": "python3"
  },
  "language_info": {
   "codemirror_mode": {
    "name": "ipython",
    "version": 3
   },
   "file_extension": ".py",
   "mimetype": "text/x-python",
   "name": "python",
   "nbconvert_exporter": "python",
   "pygments_lexer": "ipython3",
   "version": "3.12.6"
  }
 },
 "nbformat": 4,
 "nbformat_minor": 2
}
