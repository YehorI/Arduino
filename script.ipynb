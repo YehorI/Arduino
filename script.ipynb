{
 "cells": [
  {
   "cell_type": "code",
   "execution_count": 1,
   "metadata": {},
   "outputs": [
    {
     "name": "stdout",
     "output_type": "stream",
     "text": [
      "Sketch uses 1150 bytes (3%) of program storage space. Maximum is 32256 bytes.\n",
      "Global variables use 9 bytes (0%) of dynamic memory, leaving 2039 bytes for local variables. Maximum is 2048 bytes.\n",
      "\n",
      "\u001b[92mUsed platform\u001b[0m \u001b[92mVersion\u001b[0m \u001b[90mPath\u001b[0m\n",
      "\u001b[93marduino:avr\u001b[0m   1.8.6   \u001b[90m/home/yehori/.arduino15/packages/arduino/hardware/avr/1.8.6\u001b[0m\n"
     ]
    }
   ],
   "source": [
    "!arduino-cli compile --fqbn arduino:avr:uno ~/Documents/Projects/Arduino/pwm_pr\n"
   ]
  },
  {
   "cell_type": "code",
   "execution_count": 4,
   "metadata": {},
   "outputs": [
    {
     "name": "stdout",
     "output_type": "stream",
     "text": [
      "Sketch uses 444 bytes (1%) of program storage space. Maximum is 32256 bytes.\n",
      "Global variables use 9 bytes (0%) of dynamic memory, leaving 2039 bytes for local variables. Maximum is 2048 bytes.\n",
      "\n",
      "\u001b[92mUsed platform\u001b[0m \u001b[92mVersion\u001b[0m \u001b[90mPath\u001b[0m\n",
      "\u001b[93marduino:avr\u001b[0m   1.8.6   \u001b[90m/home/yehori/.arduino15/packages/arduino/hardware/avr/1.8.6\u001b[0m\n",
      "New upload port: /dev/ttyUSB0 (serial)\n"
     ]
    }
   ],
   "source": [
    "PROJECT = \"empty_sketch\"\n",
    "\n",
    "!arduino-cli compile --fqbn arduino:avr:uno ~/Documents/Projects/Arduino/\"{PROJECT}\"\n",
    "!arduino-cli upload -p /dev/ttyUSB0 --fqbn arduino:avr:uno ~/Documents/Projects/Arduino/\"{PROJECT}\"\n"
   ]
  },
  {
   "cell_type": "code",
   "execution_count": null,
   "metadata": {},
   "outputs": [
    {
     "data": {
      "application/vnd.jupyter.widget-view+json": {
       "model_id": "fec1dadddbf74855889404b748073c85",
       "version_major": 2,
       "version_minor": 0
      },
      "text/plain": [
       "Dropdown(description='Project:', layout=Layout(width='300px'), options=('.git', 'traffic_l', 'sketch_oct8a', '…"
      ]
     },
     "metadata": {},
     "output_type": "display_data"
    },
    {
     "data": {
      "application/vnd.jupyter.widget-view+json": {
       "model_id": "e2f439be7052423f82008564db1bca43",
       "version_major": 2,
       "version_minor": 0
      },
      "text/plain": [
       "HBox(children=(Button(description='Compile', style=ButtonStyle()), Button(description='Upload', style=ButtonSt…"
      ]
     },
     "metadata": {},
     "output_type": "display_data"
    },
    {
     "data": {
      "application/vnd.jupyter.widget-view+json": {
       "model_id": "741c6b9d1cac493e92e7b81b78ab5e62",
       "version_major": 2,
       "version_minor": 0
      },
      "text/plain": [
       "Output()"
      ]
     },
     "metadata": {},
     "output_type": "display_data"
    }
   ],
   "source": [
    "import os\n",
    "from IPython.display import display, clear_output\n",
    "from ipywidgets import widgets, Layout\n",
    "\n",
    "ARDUINO_DIR = os.path.expanduser(\"~/Documents/Projects/Arduino/arduino_programs\")\n",
    "\n",
    "def list_projects():\n",
    "    return [d for d in os.listdir(ARDUINO_DIR) if os.path.isdir(os.path.join(ARDUINO_DIR, d))]\n",
    "\n",
    "def compile_project(project):\n",
    "    cmd = f\"arduino-cli compile --fqbn arduino:avr:uno {os.path.join(ARDUINO_DIR, project)}\"\n",
    "    print(f\"Compiling {project}...\")\n",
    "    result = os.system(cmd)\n",
    "    if result == 0:\n",
    "        print(\"Compilation successful!\")\n",
    "    else:\n",
    "        print(\"Compilation failed.\")\n",
    "    return result == 0\n",
    "\n",
    "def upload_project(project):\n",
    "    cmd = f\"arduino-cli upload -p /dev/ttyUSB0 --fqbn arduino:avr:uno {os.path.join(ARDUINO_DIR, project)}\"\n",
    "    print(f\"Uploading {project}...\")\n",
    "    result = os.system(cmd)\n",
    "    if result == 0:\n",
    "        print(\"Upload successful!\")\n",
    "    else:\n",
    "        print(\"Upload failed.\")\n",
    "    return result == 0\n",
    "\n",
    "def on_project_change(change):\n",
    "    if change['type'] == 'change' and change['name'] == 'value':\n",
    "        with output:\n",
    "            clear_output(wait=True)\n",
    "            print(f\"Selected project: {change['new']}\")\n",
    "\n",
    "def on_compile_click(b):\n",
    "    with output:\n",
    "        compile_project(dropdown.value)\n",
    "\n",
    "def on_upload_click(b):\n",
    "    with output:\n",
    "        upload_project(dropdown.value)\n",
    "\n",
    "def on_run_click(b):\n",
    "    with output:\n",
    "        if compile_project(dropdown.value):\n",
    "            upload_project(dropdown.value)\n",
    "\n",
    "# Create widgets\n",
    "projects = list_projects()\n",
    "dropdown = widgets.Dropdown(\n",
    "    options=projects,\n",
    "    description='Project:',\n",
    "    disabled=False,\n",
    "    layout=Layout(width='300px')\n",
    ")\n",
    "\n",
    "compile_button = widgets.Button(description=\"Compile\")\n",
    "upload_button = widgets.Button(description=\"Upload\")\n",
    "run_button = widgets.Button(description=\"Run\")\n",
    "\n",
    "# Create output widget\n",
    "output = widgets.Output()\n",
    "\n",
    "# Attach callbacks\n",
    "dropdown.observe(on_project_change, names='value')\n",
    "compile_button.on_click(on_compile_click)\n",
    "upload_button.on_click(on_upload_click)\n",
    "run_button.on_click(on_run_click)\n",
    "\n",
    "# Create a horizontal box for buttons\n",
    "button_box = widgets.HBox([compile_button, upload_button, run_button])\n",
    "\n",
    "# Display widgets\n",
    "display(dropdown)\n",
    "display(button_box)\n",
    "display(output)\n",
    "\n",
    "# Initial project display\n",
    "with output:\n",
    "    print(f\"Selected project: {dropdown.value}\")\n"
   ]
  },
  {
   "cell_type": "code",
   "execution_count": null,
   "metadata": {},
   "outputs": [],
   "source": [
    "import serial\n",
    "import time\n",
    "from IPython.display import display\n",
    "import ipywidgets as widgets\n",
    "import threading\n",
    "import statistics\n",
    "from collections import deque\n",
    "\n",
    "class ArduinoMonitor:\n",
    "    def __init__(self, port='/dev/ttyUSB0', baudrate=9600, max_lines=10, avg_lines=5):\n",
    "        self.port = port\n",
    "        self.baudrate = baudrate\n",
    "        self.max_lines = max_lines\n",
    "        self.avg_lines = avg_lines\n",
    "        self.is_running = False\n",
    "        self.lines = deque(maxlen=max_lines)\n",
    "        self.rolling_avg_data = deque(maxlen=avg_lines)\n",
    "        \n",
    "        self.output = widgets.HTML()\n",
    "        self.stop_button = widgets.Button(description=\"Stop Monitoring\")\n",
    "        self.stop_button.on_click(self.stop_monitoring)\n",
    "        self.rolling_avg_checkbox = widgets.Checkbox(description=f\"Enable Rolling Average (last {self.avg_lines})\", value=False)\n",
    "        \n",
    "        self.control_box = widgets.HBox([self.stop_button, self.rolling_avg_checkbox])\n",
    "        self.main_box = widgets.VBox([self.control_box, self.output])\n",
    "        \n",
    "    def start_monitoring(self):\n",
    "        self.is_running = True\n",
    "        self.ser = serial.Serial(self.port, self.baudrate, timeout=1)\n",
    "        self._update_output(f\"Listening to Arduino on {self.port}\")\n",
    "        threading.Thread(target=self._monitor_thread, daemon=True).start()\n",
    "        \n",
    "    def stop_monitoring(self, _=None):\n",
    "        self.is_running = False\n",
    "        \n",
    "    def _monitor_thread(self):\n",
    "        while self.is_running:\n",
    "            if self.ser.in_waiting:\n",
    "                line = self.ser.readline().decode('utf-8').strip()\n",
    "                if line:\n",
    "                    try:\n",
    "                        value = float(line)\n",
    "                        self.lines.append(value)\n",
    "                        self.rolling_avg_data.append(value)\n",
    "                        self._update_output()\n",
    "                    except ValueError:\n",
    "                        self._update_output(f\"Non-numeric data received: {line}\")\n",
    "            time.sleep(0.1)\n",
    "        \n",
    "        self.ser.close()\n",
    "        self._update_output(\"Serial connection closed\")\n",
    "        \n",
    "    def _update_output(self, status_message=None):\n",
    "        output_lines = []\n",
    "        if status_message:\n",
    "            output_lines.append(f\"<b>{status_message}</b>\")\n",
    "        \n",
    "        if self.rolling_avg_checkbox.value and self.rolling_avg_data:\n",
    "            avg = statistics.mean(self.rolling_avg_data)\n",
    "            output_lines.append(f\"<b>Rolling Average (last {self.avg_lines} readings): {avg:.2f}</b>\")\n",
    "        \n",
    "        output_lines.append(f\"<b>Last {self.max_lines} readings:</b>\")\n",
    "        for i, l in enumerate(self.lines, 1):\n",
    "            output_lines.append(f\"{i}. {l}\")\n",
    "        \n",
    "        self.output.value = \"<br>\".join(output_lines)\n",
    "    \n",
    "    def display(self):\n",
    "        display(self.main_box)\n",
    "        self.start_monitoring()\n",
    "\n",
    "# Usage\n",
    "# Default: monitor = ArduinoMonitor()\n",
    "monitor = ArduinoMonitor('/dev/ttyUSB0', 9600, max_lines=15, avg_lines=120)\n",
    "monitor.display()\n"
   ]
  }
 ],
 "metadata": {
  "kernelspec": {
   "display_name": "arduino-beginning-2o8SFZT5-py3.12",
   "language": "python",
   "name": "python3"
  },
  "language_info": {
   "codemirror_mode": {
    "name": "ipython",
    "version": 3
   },
   "file_extension": ".py",
   "mimetype": "text/x-python",
   "name": "python",
   "nbconvert_exporter": "python",
   "pygments_lexer": "ipython3",
   "version": "3.12.7"
  }
 },
 "nbformat": 4,
 "nbformat_minor": 2
}
